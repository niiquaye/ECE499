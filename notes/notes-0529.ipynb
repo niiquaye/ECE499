{
 "cells": [
  {
   "cell_type": "markdown",
   "id": "25bc7605",
   "metadata": {},
   "source": [
    "sight files - 100m x 100m space in the forest\n",
    ".las files - laser files for point cloud data\n",
    "    - ground removals - only care about bottom of tree \n",
    "    - separate trees\n",
    "segmentation tools\n"
   ]
  },
  {
   "cell_type": "markdown",
   "id": "6f7840c1",
   "metadata": {},
   "source": [
    "comparison of models\n",
    "experimental analysis\n",
    "    - take raw data and piping it direfctly into a NeRF (potentially)\n",
    "    - multiple views from the same place\n",
    "modifying the architecture of nerf - different encodings"
   ]
  },
  {
   "cell_type": "markdown",
   "id": "beaac6bd",
   "metadata": {},
   "source": [
    "NeRF misses the opportunity to use the full extent of the LiDAR data"
   ]
  },
  {
   "cell_type": "markdown",
   "id": "6dc81648",
   "metadata": {},
   "source": [
    "Pointcloud data preprocessing\n",
    "    - voxelize (put data into cubes) data into small clouds\n",
    "    - a set of points (put of number of points into a fixed number of sets) - PointNet++ \n",
    "    - pointclouddata .pcd"
   ]
  }
 ],
 "metadata": {
  "language_info": {
   "name": "python"
  }
 },
 "nbformat": 4,
 "nbformat_minor": 5
}
